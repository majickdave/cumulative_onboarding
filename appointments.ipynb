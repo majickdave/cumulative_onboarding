{
 "cells": [
  {
   "cell_type": "code",
   "execution_count": 87,
   "id": "c8a51bae",
   "metadata": {},
   "outputs": [
    {
     "name": "stdout",
     "output_type": "stream",
     "text": [
      "Appointments Booked this year: 504\n"
     ]
    }
   ],
   "source": [
    "import pandas as pd\n",
    "from datetime import datetime\n",
    "from millify import millify\n",
    "\n",
    "df = pd.read_csv('data/appt_dates.csv')\n",
    "# convert datetime\n",
    "df['Date'] = pd.to_datetime(df['Date'])\n",
    "\n",
    "# filter data to no cancelled appts in the last year\n",
    "days = 365\n",
    "data = df.copy()\n",
    "data = data[(data['CancellationDate'].isna()) & (data['Status'] == 'Confirmed')]\n",
    "df_this_year = data[data['Date'] >= datetime.now() - pd.Timedelta(days=days)]\n",
    "df_last_year = data[data['Date'] >= datetime.now() - pd.Timedelta(days=days*2)]\n",
    "\n",
    "print('Appointments Booked this year:', len(df_this_year))"
   ]
  },
  {
   "cell_type": "code",
   "execution_count": 86,
   "id": "2ca3495a",
   "metadata": {},
   "outputs": [
    {
     "name": "stdout",
     "output_type": "stream",
     "text": [
      "Total Paid this year: $17.73k\n"
     ]
    }
   ],
   "source": [
    "print('Total Paid this year:', f\"${millify(df[df['Date'] >= datetime.now() - pd.Timedelta(days=days)]['PaidAmount'].sum(), precision=2)}\")"
   ]
  },
  {
   "cell_type": "code",
   "execution_count": null,
   "id": "d3cb6d7b",
   "metadata": {},
   "outputs": [],
   "source": []
  }
 ],
 "metadata": {
  "kernelspec": {
   "display_name": ".venv",
   "language": "python",
   "name": "python3"
  },
  "language_info": {
   "codemirror_mode": {
    "name": "ipython",
    "version": 3
   },
   "file_extension": ".py",
   "mimetype": "text/x-python",
   "name": "python",
   "nbconvert_exporter": "python",
   "pygments_lexer": "ipython3",
   "version": "3.13.5"
  }
 },
 "nbformat": 4,
 "nbformat_minor": 5
}
