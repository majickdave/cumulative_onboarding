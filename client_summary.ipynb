{
 "cells": [
  {
   "cell_type": "code",
   "execution_count": 15,
   "id": "86c6788e",
   "metadata": {},
   "outputs": [
    {
     "data": {
      "text/html": [
       "<div>\n",
       "<style scoped>\n",
       "    .dataframe tbody tr th:only-of-type {\n",
       "        vertical-align: middle;\n",
       "    }\n",
       "\n",
       "    .dataframe tbody tr th {\n",
       "        vertical-align: top;\n",
       "    }\n",
       "\n",
       "    .dataframe thead th {\n",
       "        text-align: right;\n",
       "    }\n",
       "</style>\n",
       "<table border=\"1\" class=\"dataframe\">\n",
       "  <thead>\n",
       "    <tr style=\"text-align: right;\">\n",
       "      <th></th>\n",
       "      <th>FirstAppointmentDate</th>\n",
       "      <th>LastAppointmentDate</th>\n",
       "      <th>TotalAppointments</th>\n",
       "      <th>TotalPaidAmount</th>\n",
       "      <th>ClientStatus</th>\n",
       "    </tr>\n",
       "  </thead>\n",
       "  <tbody>\n",
       "    <tr>\n",
       "      <th>0</th>\n",
       "      <td>2023-03-08 10:30 AM</td>\n",
       "      <td>2023-03-08 10:30 AM</td>\n",
       "      <td>1</td>\n",
       "      <td>0.0</td>\n",
       "      <td>Archived</td>\n",
       "    </tr>\n",
       "    <tr>\n",
       "      <th>1</th>\n",
       "      <td>2024-07-22 06:15 PM</td>\n",
       "      <td>2024-09-16 05:25 PM</td>\n",
       "      <td>4</td>\n",
       "      <td>75.0</td>\n",
       "      <td>Archived</td>\n",
       "    </tr>\n",
       "    <tr>\n",
       "      <th>2</th>\n",
       "      <td>2025-03-07 11:30 AM</td>\n",
       "      <td>2025-03-07 11:30 AM</td>\n",
       "      <td>1</td>\n",
       "      <td>0.0</td>\n",
       "      <td>Active</td>\n",
       "    </tr>\n",
       "    <tr>\n",
       "      <th>3</th>\n",
       "      <td>2021-11-09 08:00 AM</td>\n",
       "      <td>2021-11-09 08:00 AM</td>\n",
       "      <td>1</td>\n",
       "      <td>0.0</td>\n",
       "      <td>Archived</td>\n",
       "    </tr>\n",
       "    <tr>\n",
       "      <th>4</th>\n",
       "      <td>2025-07-28 12:30 PM</td>\n",
       "      <td>2025-09-17 12:45 PM</td>\n",
       "      <td>3</td>\n",
       "      <td>0.0</td>\n",
       "      <td>Active</td>\n",
       "    </tr>\n",
       "  </tbody>\n",
       "</table>\n",
       "</div>"
      ],
      "text/plain": [
       "  FirstAppointmentDate  LastAppointmentDate  TotalAppointments  \\\n",
       "0  2023-03-08 10:30 AM  2023-03-08 10:30 AM                  1   \n",
       "1  2024-07-22 06:15 PM  2024-09-16 05:25 PM                  4   \n",
       "2  2025-03-07 11:30 AM  2025-03-07 11:30 AM                  1   \n",
       "3  2021-11-09 08:00 AM  2021-11-09 08:00 AM                  1   \n",
       "4  2025-07-28 12:30 PM  2025-09-17 12:45 PM                  3   \n",
       "\n",
       "   TotalPaidAmount ClientStatus  \n",
       "0              0.0     Archived  \n",
       "1             75.0     Archived  \n",
       "2              0.0       Active  \n",
       "3              0.0     Archived  \n",
       "4              0.0       Active  "
      ]
     },
     "execution_count": 15,
     "metadata": {},
     "output_type": "execute_result"
    }
   ],
   "source": [
    "import pandas as pd\n",
    "\n",
    "df = pd.read_csv('data/client_summary_totals.csv')\n",
    "df.head()"
   ]
  },
  {
   "cell_type": "code",
   "execution_count": 16,
   "id": "245dfc2b",
   "metadata": {},
   "outputs": [],
   "source": [
    "df['FirstAppointmentDate'] = pd.to_datetime(df['FirstAppointmentDate'])\n",
    "df['LastAppointmentDate'] = pd.to_datetime(df['LastAppointmentDate'])\n"
   ]
  },
  {
   "cell_type": "code",
   "execution_count": 17,
   "id": "a88b972a",
   "metadata": {},
   "outputs": [
    {
     "name": "stdout",
     "output_type": "stream",
     "text": [
      "lifetime appointments 2271\n"
     ]
    }
   ],
   "source": [
    "print(\"lifetime appointments\", df['TotalAppointments'].sum())"
   ]
  },
  {
   "cell_type": "code",
   "execution_count": 20,
   "id": "6040176f",
   "metadata": {},
   "outputs": [
    {
     "name": "stdout",
     "output_type": "stream",
     "text": [
      "lifetime Paid: $114,460.95\n"
     ]
    }
   ],
   "source": [
    "print(\"lifetime Paid:\", f\"${df['TotalPaidAmount'].sum():,.2f}\")"
   ]
  },
  {
   "cell_type": "code",
   "execution_count": null,
   "id": "11d827e2",
   "metadata": {},
   "outputs": [],
   "source": []
  }
 ],
 "metadata": {
  "kernelspec": {
   "display_name": ".venv",
   "language": "python",
   "name": "python3"
  },
  "language_info": {
   "codemirror_mode": {
    "name": "ipython",
    "version": 3
   },
   "file_extension": ".py",
   "mimetype": "text/x-python",
   "name": "python",
   "nbconvert_exporter": "python",
   "pygments_lexer": "ipython3",
   "version": "3.13.5"
  }
 },
 "nbformat": 4,
 "nbformat_minor": 5
}
