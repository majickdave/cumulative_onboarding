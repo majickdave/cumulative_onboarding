{
 "cells": [
  {
   "cell_type": "code",
   "execution_count": 103,
   "id": "9b453f2c",
   "metadata": {},
   "outputs": [],
   "source": [
    "import pandas as pd\n",
    "from datetime import datetime\n",
    "import requests\n",
    "import streamlit as st\n",
    "\n",
    "\n",
    "API_KEY = st.secrets[\"INTAKEQ_API_KEY\"]\n",
    "BASE = \"https://intakeq.com/api/v1/\"\n",
    "\n",
    "def fetch_appointments_scheduled_between(start_date, end_date):\n",
    "    \"\"\"\n",
    "    Fetch appointments scheduled between start_date and end_date\n",
    "    \n",
    "    https://support.intakeq.com/article/204-intakeq-appointments-api\n",
    "    \"\"\"\n",
    "    base_url = BASE + 'appointments'\n",
    "    # create a session\n",
    "    session = requests.Session()\n",
    "    # add api key to headers\n",
    "    session.headers.update({\n",
    "        \"X-Auth-Key\": API_KEY,\n",
    "        \"User-Agent\": \"IntakeQ-API-Client/1.0\"\n",
    "    })\n",
    "    # make request\n",
    "    response = session.get(\n",
    "        f\"{base_url}?&startDate={start_date}&endDate={end_date}&deletedOnly=false\"\n",
    "        )\n",
    "    # close session\n",
    "    session.close()\n",
    "    return response.json()\n",
    "\n",
    "def update_appointments_data():\n",
    "    # load existing data\n",
    "    df = pd.read_csv('/Users/davidsamuel/Projects/cumulative_onboarding/data/appointments.csv')\n",
    "    #last updated\n",
    "    last_updated = pd.to_datetime(df['DateCreated'], unit='ms').sort_values().max()\n",
    "    if last_updated.date() == datetime.now().date():\n",
    "        print(\"Appointment data is already up to date.\")\n",
    "    else:\n",
    "        # create start date from most recent appointment DateCreated\n",
    "        start_date = (last_updated - pd.Timedelta(days=1)).strftime('%Y-%m-%d')\n",
    "        end_date = datetime.now().date().strftime('%Y-%m-%d')\n",
    "\n",
    "        print(f\"Fetching appointments updated since {start_date} to {end_date}\")\n",
    "        response = fetch_appointments_scheduled_between(start_date, end_date)\n",
    "        new_data = pd.DataFrame(response)\n",
    "        if not new_data.empty:\n",
    "            # Keep only rows in new_data whose 'Id' is not already in df\n",
    "            new_unique = new_data[~new_data['Id'].isin(df['Id'])]\n",
    "            print(f\"{len(new_unique)} new appointments\")\n",
    "\n",
    "            # Concatenate\n",
    "            new_appts = pd.concat([df, new_unique], ignore_index=True)\n",
    "        else:\n",
    "            print(\"No new appointments found.\")\n",
    "\n",
    "\n",
    "def fetch_clients_created_between(start_date, end_date):\n",
    "    \"\"\"\n",
    "    Fetch clients created between start_date and end_date\n",
    "\n",
    "    https://support.intakeq.com/article/251-intakeq-client-api\n",
    "    \"\"\"\n",
    "    base_url = BASE + 'clients'\n",
    "    # create a session\n",
    "    session = requests.Session()\n",
    "    # add api key to headers\n",
    "    session.headers.update({\n",
    "        \"X-Auth-Key\": API_KEY,\n",
    "        \"User-Agent\": \"IntakeQ-API-Client/1.0\"\n",
    "    })\n",
    "    # make request\n",
    "    response = session.get(\n",
    "        f\"{base_url}?&dateCreatedStart={start_date}&dateCreatedEnd={end_date}&deletedOnly=false&includeProfile=true\"\n",
    "        )\n",
    "    # close session\n",
    "    session.close()\n",
    "    return response.json()\n",
    "\n",
    "def update_clients_data():\n",
    "    # load existing data\n",
    "    df = pd.read_csv('/Users/davidsamuel/Projects/cumulative_onboarding/data/clients.csv')\n",
    "    # check most recent date created\n",
    "    last_updated = pd.to_datetime(df['DateCreated'], unit='ms').sort_values().max()\n",
    "    if last_updated.date() == datetime.now().date():\n",
    "        print(\"Client data is already up to date.\")\n",
    "    else:\n",
    "        # create start date from most recent appointment DateCreated\n",
    "        start_date = (pd.to_datetime(df['DateCreated'], unit='ms').sort_values().max() - pd.Timedelta(days=1)).strftime('%Y-%m-%d')\n",
    "        end_date = datetime.now().date().strftime('%Y-%m-%d')\n",
    "\n",
    "        print(f\"Fetching clients created between {start_date} and {end_date}\")\n",
    "        response = fetch_clients_created_between(start_date, end_date)\n",
    "        new_data = pd.DataFrame(response)\n",
    "        if not new_data.empty:\n",
    "            # Keep only rows in new_data whose 'ClientId' is not already in df\n",
    "            new_unique = new_data[~new_data['ClientId'].isin(df['ClientId'])]\n",
    "            print(f\"{len(new_unique)} new clients\")\n",
    "\n",
    "            # Concatenate\n",
    "            new_clients = pd.concat([df, new_unique], ignore_index=True)\n",
    "        else:\n",
    "            print(\"No new clients found.\")"
   ]
  },
  {
   "cell_type": "code",
   "execution_count": 104,
   "id": "a9a942dc",
   "metadata": {},
   "outputs": [
    {
     "name": "stdout",
     "output_type": "stream",
     "text": [
      "Appointment data is already up to date.\n",
      "Client data is already up to date.\n"
     ]
    }
   ],
   "source": [
    "update_appointments_data()\n",
    "update_clients_data()"
   ]
  },
  {
   "cell_type": "code",
   "execution_count": 9,
   "id": "ef486de3",
   "metadata": {},
   "outputs": [],
   "source": [
    "import pandas as pd\n",
    "appts = pd.read_csv('data/appt_dates.csv')\n",
    "clients = pd.read_csv('data/dates.csv')"
   ]
  },
  {
   "cell_type": "code",
   "execution_count": 9,
   "id": "61f10ade",
   "metadata": {},
   "outputs": [
    {
     "data": {
      "text/html": [
       "<div>\n",
       "<style scoped>\n",
       "    .dataframe tbody tr th:only-of-type {\n",
       "        vertical-align: middle;\n",
       "    }\n",
       "\n",
       "    .dataframe tbody tr th {\n",
       "        vertical-align: top;\n",
       "    }\n",
       "\n",
       "    .dataframe thead th {\n",
       "        text-align: right;\n",
       "    }\n",
       "</style>\n",
       "<table border=\"1\" class=\"dataframe\">\n",
       "  <thead>\n",
       "    <tr style=\"text-align: right;\">\n",
       "      <th></th>\n",
       "      <th>DateCreated</th>\n",
       "    </tr>\n",
       "  </thead>\n",
       "  <tbody>\n",
       "    <tr>\n",
       "      <th>58</th>\n",
       "      <td>01/07/2025</td>\n",
       "    </tr>\n",
       "    <tr>\n",
       "      <th>128</th>\n",
       "      <td>01/05/2024</td>\n",
       "    </tr>\n",
       "    <tr>\n",
       "      <th>144</th>\n",
       "      <td>01/05/2022</td>\n",
       "    </tr>\n",
       "    <tr>\n",
       "      <th>271</th>\n",
       "      <td>01/04/2023</td>\n",
       "    </tr>\n",
       "    <tr>\n",
       "      <th>28</th>\n",
       "      <td>01/03/2025</td>\n",
       "    </tr>\n",
       "  </tbody>\n",
       "</table>\n",
       "</div>"
      ],
      "text/plain": [
       "    DateCreated\n",
       "58   01/07/2025\n",
       "128  01/05/2024\n",
       "144  01/05/2022\n",
       "271  01/04/2023\n",
       "28   01/03/2025"
      ]
     },
     "execution_count": 9,
     "metadata": {},
     "output_type": "execute_result"
    }
   ],
   "source": [
    "clients.sort_values('DateCreated', ascending=False).tail()"
   ]
  },
  {
   "cell_type": "code",
   "execution_count": 13,
   "id": "896000c9",
   "metadata": {},
   "outputs": [],
   "source": [
    "appointments = pd.read_csv('data/appointments.csv')\n",
    "clients = pd.read_csv('data/clients.csv')"
   ]
  },
  {
   "cell_type": "code",
   "execution_count": 14,
   "id": "d8c071c4",
   "metadata": {},
   "outputs": [
    {
     "data": {
      "text/plain": [
       "ServiceId\n",
       "1efe2465-4741-48c8-8408-114818cdce74    2482\n",
       "64689f67-0ba6-4b73-b5ed-2d42db7d64c4     273\n",
       "92686092-27d0-404a-bb67-90da9a9cba66       1\n",
       "Name: count, dtype: int64"
      ]
     },
     "execution_count": 14,
     "metadata": {},
     "output_type": "execute_result"
    }
   ],
   "source": [
    "appointments['ServiceId'].value_counts()"
   ]
  },
  {
   "cell_type": "code",
   "execution_count": 15,
   "id": "f9f7b289",
   "metadata": {},
   "outputs": [
    {
     "data": {
      "text/plain": [
       "0       1efe2465-4741-48c8-8408-114818cdce74\n",
       "1       1efe2465-4741-48c8-8408-114818cdce74\n",
       "2       1efe2465-4741-48c8-8408-114818cdce74\n",
       "3       1efe2465-4741-48c8-8408-114818cdce74\n",
       "4       1efe2465-4741-48c8-8408-114818cdce74\n",
       "                        ...                 \n",
       "2751    1efe2465-4741-48c8-8408-114818cdce74\n",
       "2752    1efe2465-4741-48c8-8408-114818cdce74\n",
       "2753    1efe2465-4741-48c8-8408-114818cdce74\n",
       "2754    1efe2465-4741-48c8-8408-114818cdce74\n",
       "2755    1efe2465-4741-48c8-8408-114818cdce74\n",
       "Name: ServiceId, Length: 2756, dtype: object"
      ]
     },
     "execution_count": 15,
     "metadata": {},
     "output_type": "execute_result"
    }
   ],
   "source": [
    "appointments['ServiceId']"
   ]
  },
  {
   "cell_type": "code",
   "execution_count": null,
   "id": "67954833",
   "metadata": {},
   "outputs": [],
   "source": []
  }
 ],
 "metadata": {
  "kernelspec": {
   "display_name": ".venv",
   "language": "python",
   "name": "python3"
  },
  "language_info": {
   "codemirror_mode": {
    "name": "ipython",
    "version": 3
   },
   "file_extension": ".py",
   "mimetype": "text/x-python",
   "name": "python",
   "nbconvert_exporter": "python",
   "pygments_lexer": "ipython3",
   "version": "3.13.5"
  }
 },
 "nbformat": 4,
 "nbformat_minor": 5
}
