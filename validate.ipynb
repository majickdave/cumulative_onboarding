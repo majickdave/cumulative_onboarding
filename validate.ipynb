{
 "cells": [
  {
   "cell_type": "code",
   "execution_count": 58,
   "id": "47719da9",
   "metadata": {},
   "outputs": [
    {
     "data": {
      "text/plain": [
       "Timestamp('2025-09-23 18:59:00')"
      ]
     },
     "execution_count": 58,
     "metadata": {},
     "output_type": "execute_result"
    }
   ],
   "source": [
    "import pandas as pd\n",
    "df = pd.read_csv('data/appt_dates.csv', encoding='utf-8')\n",
    "df['Date'] = pd.to_datetime(df['Date'])\n",
    "df['Date'].max()"
   ]
  },
  {
   "cell_type": "code",
   "execution_count": 59,
   "id": "e30906b3",
   "metadata": {},
   "outputs": [
    {
     "data": {
      "text/plain": [
       "Timestamp('2025-09-23 00:00:00')"
      ]
     },
     "execution_count": 59,
     "metadata": {},
     "output_type": "execute_result"
    }
   ],
   "source": [
    "import pandas as pd\n",
    "df = pd.read_csv('data/dates.csv', encoding='utf-8')\n",
    "df['DateCreated'] = pd.to_datetime(df['DateCreated'])\n",
    "df['DateCreated'].max()"
   ]
  },
  {
   "cell_type": "code",
   "execution_count": 60,
   "id": "95cb8d0c",
   "metadata": {},
   "outputs": [],
   "source": [
    "df = pd.read_csv('data/clients.csv', encoding='utf-8')"
   ]
  },
  {
   "cell_type": "code",
   "execution_count": null,
   "id": "e331cdea",
   "metadata": {},
   "outputs": [],
   "source": []
  },
  {
   "cell_type": "code",
   "execution_count": 61,
   "id": "f4f04667",
   "metadata": {},
   "outputs": [],
   "source": [
    "df = pd.read_csv('data/client_summary.csv')"
   ]
  },
  {
   "cell_type": "code",
   "execution_count": 62,
   "id": "b4891d17",
   "metadata": {},
   "outputs": [],
   "source": [
    "df['LastAppointmentDate'] = pd.to_datetime(df['LastAppointmentDate'])"
   ]
  },
  {
   "cell_type": "code",
   "execution_count": 63,
   "id": "729a941b",
   "metadata": {},
   "outputs": [],
   "source": [
    "active_clients = df[(df['LastAppointmentDate'] >= pd.Timestamp.today() - pd.DateOffset(days=365)) & (df['ClientStatus'] == 'Active')]"
   ]
  },
  {
   "cell_type": "code",
   "execution_count": 64,
   "id": "1e9ec73c",
   "metadata": {},
   "outputs": [],
   "source": [
    "# active clients who haven't had an appointment in the last year\n",
    "active_clients.sort_values('LastAppointmentDate').head(30).to_csv('/Users/davidsamuel/Desktop/clients_who_need_an_appt.csv', index=False)"
   ]
  },
  {
   "cell_type": "code",
   "execution_count": 65,
   "id": "d539798e",
   "metadata": {},
   "outputs": [
    {
     "data": {
      "text/plain": [
       "113"
      ]
     },
     "execution_count": 65,
     "metadata": {},
     "output_type": "execute_result"
    }
   ],
   "source": [
    "len(active_clients)"
   ]
  },
  {
   "cell_type": "code",
   "execution_count": 66,
   "id": "4a990b41",
   "metadata": {},
   "outputs": [
    {
     "data": {
      "text/plain": [
       "Timestamp('2025-09-23 00:00:00')"
      ]
     },
     "execution_count": 66,
     "metadata": {},
     "output_type": "execute_result"
    }
   ],
   "source": [
    "import pandas as pd\n",
    "df = pd.read_csv('data/dates.csv', encoding='utf-8')\n",
    "df['DateCreated'] = pd.to_datetime(df['DateCreated'])\n",
    "df['DateCreated'].max()"
   ]
  },
  {
   "cell_type": "code",
   "execution_count": 67,
   "id": "7840bdbe",
   "metadata": {},
   "outputs": [],
   "source": [
    "df = pd.read_csv('data/clients.csv')\n",
    "\n",
    "df['DateCreated'] = pd.to_datetime(df['DateCreated'], unit='ms')"
   ]
  },
  {
   "cell_type": "code",
   "execution_count": 68,
   "id": "23cb6a3b",
   "metadata": {},
   "outputs": [
    {
     "data": {
      "text/plain": [
       "0     2025-09-22 19:59:02.269\n",
       "1     2025-09-22 14:57:54.483\n",
       "2     2021-08-13 19:16:24.608\n",
       "3     2024-04-10 19:47:52.199\n",
       "4     2025-08-19 21:57:29.277\n",
       "                ...          \n",
       "312   2025-09-22 20:33:02.426\n",
       "313   2025-09-23 19:33:28.822\n",
       "314   2025-09-23 17:01:35.978\n",
       "315   2025-09-23 18:59:39.855\n",
       "316   2025-09-23 19:08:47.493\n",
       "Name: DateCreated, Length: 317, dtype: datetime64[ns]"
      ]
     },
     "execution_count": 68,
     "metadata": {},
     "output_type": "execute_result"
    }
   ],
   "source": [
    "df['DateCreated']"
   ]
  },
  {
   "cell_type": "code",
   "execution_count": null,
   "id": "8737bb2c",
   "metadata": {},
   "outputs": [],
   "source": []
  },
  {
   "cell_type": "code",
   "execution_count": null,
   "id": "2fbac208",
   "metadata": {},
   "outputs": [],
   "source": []
  }
 ],
 "metadata": {
  "kernelspec": {
   "display_name": ".venv",
   "language": "python",
   "name": "python3"
  },
  "language_info": {
   "codemirror_mode": {
    "name": "ipython",
    "version": 3
   },
   "file_extension": ".py",
   "mimetype": "text/x-python",
   "name": "python",
   "nbconvert_exporter": "python",
   "pygments_lexer": "ipython3",
   "version": "3.13.5"
  }
 },
 "nbformat": 4,
 "nbformat_minor": 5
}
